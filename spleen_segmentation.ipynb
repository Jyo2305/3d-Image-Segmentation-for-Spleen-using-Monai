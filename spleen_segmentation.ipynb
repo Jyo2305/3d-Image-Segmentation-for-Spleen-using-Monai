{
 "cells": [
  {
   "cell_type": "code",
   "execution_count": null,
   "metadata": {
    "id": "E6vFVx3o_EEb"
   },
   "outputs": [],
   "source": [
    "import os\n",
    "import sys"
   ]
  },
  {
   "cell_type": "code",
   "execution_count": null,
   "metadata": {
    "id": "imho545JDlOv"
   },
   "outputs": [],
   "source": [
    "!pip install monai\n",
    "!pip install pytest-shutil\n",
    "!pip install torchinfo"
   ]
  },
  {
   "cell_type": "code",
   "execution_count": null,
   "metadata": {
    "colab": {
     "base_uri": "https://localhost:8080/"
    },
    "id": "5UqXMQih_Guv",
    "outputId": "96ac2ed0-88ed-4cdb-82bc-038ff7202a64"
   },
   "outputs": [],
   "source": [
    "# Provide your dataset path and save_directory path\n",
    "# base_dir = os.path.join(os.getcwd(), 'drive', 'MyDrive')\n",
    "base_dir = os.getcwd()\n",
    "dataset_dir = os.path.join(base_dir, 'datasets', 'Task09_Spleen')\n",
    "save_dir = os.path.join(base_dir, 'results', 'spleen_segment')\n",
    "\n",
    "sys.path.append(base_dir)\n",
    "sys.path.append(dataset_dir)\n",
    "print(base_dir)\n",
    "print(dataset_dir)\n",
    "print(save_dir)\n"
   ]
  },
  {
   "cell_type": "code",
   "execution_count": null,
   "metadata": {
    "id": "rtH3uUQ8-glv"
   },
   "outputs": [],
   "source": [
    "import nibabel as nib\n",
    "import numpy as np\n",
    "import os\n",
    "import shutil\n",
    "from monai.networks.nets import UNet\n",
    "from monai.networks.layers import Norm\n",
    "from monai.losses import DiceLoss, DiceCELoss\n",
    "from torchinfo import summary\n",
    "import segmentation_utils as segutils\n",
    "import torch\n",
    "import pytorchsimple as pts\n",
    "from glob import glob"
   ]
  },
  {
   "cell_type": "markdown",
   "metadata": {
    "id": "RflgefQTBTmK"
   },
   "source": [
    "### Creating Dataloader"
   ]
  },
  {
   "cell_type": "code",
   "execution_count": null,
   "metadata": {
    "colab": {
     "base_uri": "https://localhost:8080/"
    },
    "id": "kQwSZgTk-kO2",
    "outputId": "db36ddd1-4533-4e90-a535-6050c9cf4edf"
   },
   "outputs": [],
   "source": [
    "# Provide your model name and folders for train_data and train_labels\n",
    "train_test_dir = dataset_dir\n",
    "save_dir = save_dir\n",
    "save_name = 'spleen_segmentation_model'\n",
    "device = pts.get_default_device()\n",
    "# train_test_folders = [\"Train_data\", \"Train_labels\", \"Test_data\", \"Test_labels\"]\n",
    "train_test_folders = ['imagesTr', 'labelsTr', 'imagesTs']\n",
    "\n",
    "# Provide transformation parameters and transformation type (look at segmentation_utils.py)\n",
    "transform_type = ['load', 'ensurech', 'space', 'orient', 'scaleint', 'cropfore', 'resize', 'tens']\n",
    "train_test_dl = segutils.create_dataloader(train_test_dir, pixdim=(1.5, 1.5, 1.0), a_min=-200, a_max=200, \n",
    "                       spatial_size=[128,128,64], train_test_folders=train_test_folders, \n",
    "                       transform_type=transform_type, cache=True)  ### Set cache=False if memory error"
   ]
  },
  {
   "cell_type": "markdown",
   "metadata": {
    "id": "PRcZpbhrBrMU"
   },
   "source": [
    "### Creating the model"
   ]
  },
  {
   "cell_type": "code",
   "execution_count": null,
   "metadata": {
    "colab": {
     "base_uri": "https://localhost:8080/"
    },
    "id": "FyHJBv8L-kMd",
    "outputId": "7dd3fe08-dd0b-47c8-e204-4d3233f100bb"
   },
   "outputs": [],
   "source": [
    "# Create the model and you can load the model by uncommenting the last command and correcting the path to model_dict\n",
    "device = pts.get_default_device()\n",
    "model = UNet(\n",
    "    dimensions=3,\n",
    "    in_channels=1,\n",
    "    out_channels=2,\n",
    "    channels=(16, 32, 64, 128, 256), \n",
    "    strides=(2, 2, 2, 2),\n",
    "    num_res_units=2,\n",
    "    norm=Norm.BATCH,\n",
    ").to(device)\n",
    "loss_function = DiceLoss(to_onehot_y=True, sigmoid=True, squared_pred=True)\n",
    "optimizer = torch.optim.Adam(model.parameters(), 1e-5, weight_decay=1e-5, amsgrad=True)\n",
    "\n",
    "# model.load_state_dict(torch.load(os.path.join(save_dir, 'spleen_segmentation_model_dict.pt')), strict=False)\n"
   ]
  },
  {
   "cell_type": "markdown",
   "metadata": {
    "id": "U59PwryYB02W"
   },
   "source": [
    "### Training the model"
   ]
  },
  {
   "cell_type": "code",
   "execution_count": null,
   "metadata": {
    "colab": {
     "base_uri": "https://localhost:8080/",
     "height": 1000
    },
    "id": "xa48ELta-kDr",
    "outputId": "4c10550e-c488-4fdb-8bde-5eb1702fc145"
   },
   "outputs": [],
   "source": [
    "\n",
    "if __name__ == '__main__':\n",
    "    segutils.segmentation_train_only(model, train_test_dl, loss_function, optimizer, \n",
    "                                   200, save_dir, save_name, device=device)\n",
    "    \n",
    "## Model will be saved at save_dir/save_name.pt\n"
   ]
  },
  {
   "cell_type": "markdown",
   "metadata": {},
   "source": [
    "### Plotting training loss and metrics"
   ]
  },
  {
   "cell_type": "markdown",
   "metadata": {
    "id": "NfwNE4OW-kAD"
   },
   "source": [
    "![train_test_plots](train_test_plots.jpg)"
   ]
  },
  {
   "cell_type": "markdown",
   "metadata": {},
   "source": [
    "## Model output on a training set"
   ]
  },
  {
   "cell_type": "markdown",
   "metadata": {},
   "source": [
    "![train_gif](train_gif.gif)"
   ]
  },
  {
   "cell_type": "markdown",
   "metadata": {},
   "source": [
    "## Model output on a test set"
   ]
  },
  {
   "cell_type": "markdown",
   "metadata": {},
   "source": [
    "![test_gif](test_vid.gif)"
   ]
  },
  {
   "cell_type": "markdown",
   "metadata": {},
   "source": [
    "# Plotting"
   ]
  },
  {
   "cell_type": "code",
   "execution_count": null,
   "metadata": {},
   "outputs": [],
   "source": [
    "import pytorchplottingsimple as ptplot\n",
    "dataset_dir = dataset_dir\n",
    "model_dir = save_dir\n",
    "\n",
    "# Provide path to where images will be saved\n",
    "imgfolder = os.path.join(model_dir, 'data_images')\n",
    "vid_name = 'train_vid'\n",
    "\n",
    "model.load_state_dict(torch.load(os.path.join(model_dir, 'spleen_segmentation_model_dict.pt'), \n",
    "                                map_location=torch.device('cpu')), strict=False)\n",
    "train_loader, test_loader, keys = train_test_dl\n",
    "\n",
    "shape = (1920, 1080)\n",
    "files = glob(imgfolder+'/*.jpg')\n",
    "sfiles = sorted(files, key=lambda t: os.stat(t).st_mtime)\n",
    "ptplot.sample_img_creator(model, train_loader, imgfolder, train_loader=True) # Save images to imgfolder\n",
    "ptplot.video_from_img(imgfolder, shape, vid_name, model_dir) # Create a video and model_dir is the video saving path\n"
   ]
  },
  {
   "cell_type": "markdown",
   "metadata": {},
   "source": [
    "## Convert video to gif"
   ]
  },
  {
   "cell_type": "code",
   "execution_count": 47,
   "metadata": {},
   "outputs": [
    {
     "name": "stdout",
     "output_type": "stream",
     "text": [
      "D:\\Work_folder\\Python_files\\models\\spleen_seg\\results\\spleen_segment\\train_vid.mp4\n",
      "D:\\Work_folder\\Python_files\\models\\spleen_seg\\results\\spleen_segment\\train_vid.mp4\n",
      "Task Completed-----------------\n"
     ]
    }
   ],
   "source": [
    "import imageio\n",
    "import cv2\n",
    "\n",
    "vid_path = os.path.join(model_dir, vid_name+'.mp4')\n",
    "print(vid_path)\n",
    "\n",
    "cam = cv2.VideoCapture(vid_path)\n",
    "print(os.path.join(model_dir, vid_name+'.mp4'))\n",
    "img_list = []\n",
    "\n",
    "while True:\n",
    "    ret, frame = cam.read()\n",
    "    if ret==False:\n",
    "        break\n",
    "    frame_rgb = cv2.cvtColor(frame, cv2.COLOR_BGR2RGB)\n",
    "    img_list.append(frame)\n",
    "    cv2.imshow('a', frame)\n",
    "    key = cv2.waitKey(1)\n",
    "    if key == ord('q'):\n",
    "        break\n",
    "cam.release()\n",
    "cv2.destroyAllWindows()\n",
    "gif_path = os.path.join(model_dir, vid_name+'_gif.gif')\n",
    "imageio.mimsave(gif_path, img_list, duration=125)\n",
    "print(\"Task Completed-----------------\")"
   ]
  },
  {
   "cell_type": "markdown",
   "metadata": {},
   "source": [
    "![see_gif](write the gif_path)"
   ]
  },
  {
   "cell_type": "code",
   "execution_count": null,
   "metadata": {},
   "outputs": [],
   "source": [
    "cam.release()"
   ]
  },
  {
   "cell_type": "code",
   "execution_count": null,
   "metadata": {},
   "outputs": [],
   "source": []
  },
  {
   "cell_type": "code",
   "execution_count": null,
   "metadata": {},
   "outputs": [],
   "source": []
  }
 ],
 "metadata": {
  "accelerator": "GPU",
  "colab": {
   "gpuType": "T4",
   "provenance": []
  },
  "kernelspec": {
   "display_name": "Python 3 (ipykernel)",
   "language": "python",
   "name": "python3"
  },
  "language_info": {
   "codemirror_mode": {
    "name": "ipython",
    "version": 3
   },
   "file_extension": ".py",
   "mimetype": "text/x-python",
   "name": "python",
   "nbconvert_exporter": "python",
   "pygments_lexer": "ipython3",
   "version": "3.10.9"
  }
 },
 "nbformat": 4,
 "nbformat_minor": 1
}
